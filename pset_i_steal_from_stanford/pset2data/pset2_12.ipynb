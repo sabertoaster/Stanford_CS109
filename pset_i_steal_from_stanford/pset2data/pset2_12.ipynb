{
 "cells": [
  {
   "cell_type": "code",
   "execution_count": 1,
   "id": "initial_id",
   "metadata": {
    "collapsed": true,
    "ExecuteTime": {
     "end_time": "2024-08-11T09:55:57.850163Z",
     "start_time": "2024-08-11T09:55:57.068853Z"
    }
   },
   "outputs": [],
   "source": [
    "import pandas as pd\n",
    "import numpy as np"
   ]
  },
  {
   "cell_type": "code",
   "outputs": [],
   "source": [
    "# Read the data\n",
    "prior_data = pd.read_csv('phone_prior.csv')\n",
    "conditional_data = pd.read_csv('phone_conditional.csv')"
   ],
   "metadata": {
    "collapsed": false
   },
   "id": "aba95a5a4e361377"
  },
  {
   "cell_type": "code",
   "outputs": [
    {
     "name": "stdout",
     "output_type": "stream",
     "text": [
      "Posterior probabilities:\n",
      "[[0.074 0.188 0.074 0.005]\n",
      " [0.005 0.149 0.094 0.074]\n",
      " [0.001 0.005 0.149 0.094]\n",
      " [0.001 0.001 0.01  0.074]]\n",
      "\n",
      "Sum of all probabilities: 0.998000\n"
     ]
    }
   ],
   "source": [
    "import numpy as np\n",
    "import csv\n",
    "\n",
    "def read_csv(filename):\n",
    "    with open(filename, 'r') as f:\n",
    "        return np.array([list(map(float, row)) for row in csv.reader(f)])\n",
    "\n",
    "def calculate_posterior_probabilities(prior, conditional):\n",
    "    joint_probability = prior * conditional\n",
    "    p_two_bars = np.sum(joint_probability)\n",
    "    posterior = joint_probability / p_two_bars\n",
    "    return posterior\n",
    "\n",
    "def write_csv(filename, data):\n",
    "    with open(filename, 'w', newline='') as f:\n",
    "        writer = csv.writer(f)\n",
    "        writer.writerows(data)\n",
    "\n",
    "def main():\n",
    "    # Read data from CSV files\n",
    "    prior = read_csv('phone_prior.csv')\n",
    "    conditional = read_csv('phone_conditional.csv')\n",
    "    \n",
    "    # Calculate posterior probabilities\n",
    "    posterior = calculate_posterior_probabilities(prior, conditional)\n",
    "    posterior = np.round(posterior, 3)\n",
    "    \n",
    "    # Write results to CSV file\n",
    "    write_csv('posterior.csv', posterior)\n",
    "    \n",
    "    # Print results to console\n",
    "    print(\"Posterior probabilities:\")\n",
    "    print(posterior)\n",
    "    \n",
    "    # Verify that probabilities sum to 1\n",
    "    total_probability = np.sum(posterior)\n",
    "    print(f\"\\nSum of all probabilities: {total_probability:.6f}\")\n",
    "\n",
    "if __name__ == \"__main__\":\n",
    "    main()"
   ],
   "metadata": {
    "collapsed": false,
    "ExecuteTime": {
     "end_time": "2024-08-11T10:20:16.017549Z",
     "start_time": "2024-08-11T10:20:16.002493Z"
    }
   },
   "id": "80e60d101ffad431",
   "execution_count": 11
  },
  {
   "cell_type": "code",
   "outputs": [],
   "source": [],
   "metadata": {
    "collapsed": false
   },
   "id": "ad152a4e5331757c"
  }
 ],
 "metadata": {
  "kernelspec": {
   "name": "test_env",
   "language": "python",
   "display_name": "test_env"
  },
  "language_info": {
   "codemirror_mode": {
    "name": "ipython",
    "version": 2
   },
   "file_extension": ".py",
   "mimetype": "text/x-python",
   "name": "python",
   "nbconvert_exporter": "python",
   "pygments_lexer": "ipython2",
   "version": "2.7.6"
  }
 },
 "nbformat": 4,
 "nbformat_minor": 5
}
