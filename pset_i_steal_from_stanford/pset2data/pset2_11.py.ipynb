{
 "cells": [
  {
   "cell_type": "code",
   "outputs": [],
   "source": [
    "import pandas as pd\n",
    "import numpy as np"
   ],
   "metadata": {
    "collapsed": false,
    "ExecuteTime": {
     "end_time": "2024-08-11T09:27:41.237151Z",
     "start_time": "2024-08-11T09:27:41.232107Z"
    }
   },
   "id": "e476158a27310a7d",
   "execution_count": 10
  },
  {
   "cell_type": "code",
   "outputs": [
    {
     "data": {
      "text/plain": "   gene1  gene2  gene3  gene4  gene5\n0   True  False   True   True  False\n1  False  False   True   True   True\n2   True  False   True  False  False\n3   True  False   True   True   True\n4  False   True   True   True   True",
      "text/html": "<div>\n<style scoped>\n    .dataframe tbody tr th:only-of-type {\n        vertical-align: middle;\n    }\n\n    .dataframe tbody tr th {\n        vertical-align: top;\n    }\n\n    .dataframe thead th {\n        text-align: right;\n    }\n</style>\n<table border=\"1\" class=\"dataframe\">\n  <thead>\n    <tr style=\"text-align: right;\">\n      <th></th>\n      <th>gene1</th>\n      <th>gene2</th>\n      <th>gene3</th>\n      <th>gene4</th>\n      <th>gene5</th>\n    </tr>\n  </thead>\n  <tbody>\n    <tr>\n      <th>0</th>\n      <td>True</td>\n      <td>False</td>\n      <td>True</td>\n      <td>True</td>\n      <td>False</td>\n    </tr>\n    <tr>\n      <th>1</th>\n      <td>False</td>\n      <td>False</td>\n      <td>True</td>\n      <td>True</td>\n      <td>True</td>\n    </tr>\n    <tr>\n      <th>2</th>\n      <td>True</td>\n      <td>False</td>\n      <td>True</td>\n      <td>False</td>\n      <td>False</td>\n    </tr>\n    <tr>\n      <th>3</th>\n      <td>True</td>\n      <td>False</td>\n      <td>True</td>\n      <td>True</td>\n      <td>True</td>\n    </tr>\n    <tr>\n      <th>4</th>\n      <td>False</td>\n      <td>True</td>\n      <td>True</td>\n      <td>True</td>\n      <td>True</td>\n    </tr>\n  </tbody>\n</table>\n</div>"
     },
     "execution_count": 17,
     "metadata": {},
     "output_type": "execute_result"
    }
   ],
   "source": [
    "df = pd.read_csv(\"bats.csv\", header=None, names=['gene1', 'gene2', 'gene3', 'gene4', 'gene5', 'Ebola'])\n",
    "expressed_trait = df[\"Ebola\"]\n",
    "df = df.drop(columns=[\"Ebola\"])\n",
    "df.head()"
   ],
   "metadata": {
    "collapsed": false,
    "ExecuteTime": {
     "end_time": "2024-08-11T09:34:02.297426Z",
     "start_time": "2024-08-11T09:34:02.199779Z"
    }
   },
   "id": "e457b583e230e3d0",
   "execution_count": 17
  },
  {
   "cell_type": "code",
   "outputs": [],
   "source": [
    "total_num = df.shape[0]"
   ],
   "metadata": {
    "collapsed": false,
    "ExecuteTime": {
     "end_time": "2024-08-11T09:34:02.716162Z",
     "start_time": "2024-08-11T09:34:02.711226Z"
    }
   },
   "id": "546f263c3c1c8f9b",
   "execution_count": 18
  },
  {
   "cell_type": "code",
   "outputs": [
    {
     "data": {
      "text/plain": "0.30079"
     },
     "execution_count": 19,
     "metadata": {},
     "output_type": "execute_result"
    }
   ],
   "source": [
    "# 11.a) The probability of the trait being expressed\n",
    "active_num = df[expressed_trait == True].shape[0]\n",
    "prob = active_num / total_num\n",
    "prob"
   ],
   "metadata": {
    "collapsed": false,
    "ExecuteTime": {
     "end_time": "2024-08-11T09:34:02.904954Z",
     "start_time": "2024-08-11T09:34:02.895415Z"
    }
   },
   "id": "fc0de833969fadb0",
   "execution_count": 19
  },
  {
   "cell_type": "code",
   "outputs": [
    {
     "name": "stdout",
     "output_type": "stream",
     "text": [
      "P(gene1) = 0.70228\n",
      "P(gene2) = 0.30076\n",
      "P(gene3) = 0.5009\n",
      "P(gene4) = 0.80162\n",
      "P(gene5) = 0.32705\n"
     ]
    }
   ],
   "source": [
    "# 11.b) For each gene 8 calculate and report P(G_i)\n",
    "gene_probs = {}\n",
    "for gene in df.columns:\n",
    "    gene_probs[gene] = df[df[gene] == True].shape[0] / total_num\n",
    "\n",
    "for key, val in gene_probs.items():\n",
    "    print(f\"P({key}) = {val}\")"
   ],
   "metadata": {
    "collapsed": false,
    "ExecuteTime": {
     "end_time": "2024-08-11T09:35:52.082499Z",
     "start_time": "2024-08-11T09:35:52.066176Z"
    }
   },
   "id": "ea8d629b734ec0e5",
   "execution_count": 24
  },
  {
   "cell_type": "code",
   "outputs": [
    {
     "name": "stdout",
     "output_type": "stream",
     "text": [
      "Some independent genes: ['gene1', 'gene2']\n"
     ]
    }
   ],
   "source": [
    "# 11.c) G_i independent of Ebola <=> P(G_i & Ebola) = P(G_i) * P(Ebola)\n",
    "def joint_prob(gene):\n",
    "    return df[(df[gene] == True) & (expressed_trait == True)].shape[0] / total_num\n",
    "\n",
    "EPSILON = 0.001\n",
    "independent_genes = []\n",
    "for gene in df.columns:\n",
    "    if np.abs(joint_prob(gene) - prob * gene_probs[gene]) < EPSILON:\n",
    "        independent_genes.append(gene)\n",
    "\n",
    "print(\"Some independent genes:\", independent_genes)"
   ],
   "metadata": {
    "collapsed": false,
    "ExecuteTime": {
     "end_time": "2024-08-11T09:34:03.278428Z",
     "start_time": "2024-08-11T09:34:03.259608Z"
    }
   },
   "id": "17fe962ff34db41c",
   "execution_count": 21
  },
  {
   "cell_type": "code",
   "outputs": [
    {
     "name": "stdout",
     "output_type": "stream",
     "text": [
      "P(T | gene3) = 0.5831902575364344\n",
      "P(T | gene4) = 0.37053716224645095\n",
      "P(T | gene5) = 0.8999847118177648\n"
     ]
    }
   ],
   "source": [
    "# 11.d) For each gene i that is not assumed to be independent of T, calculate P(T | G_i)\n",
    "def conditional_prob(gene):\n",
    "    return df[(df[gene] == True) & (expressed_trait== True)].shape[0] / df[df[gene] == True].shape[0]\n",
    "\n",
    "conditional_probs = {}\n",
    "for gene in df.columns:\n",
    "    if gene not in independent_genes:\n",
    "        conditional_probs[gene] = conditional_prob(gene)\n",
    "for key, val in conditional_probs.items():\n",
    "    print(f\"P(T | {key}) = {val}\")"
   ],
   "metadata": {
    "collapsed": false,
    "ExecuteTime": {
     "end_time": "2024-08-11T09:35:45.057771Z",
     "start_time": "2024-08-11T09:35:45.041252Z"
    }
   },
   "id": "69138b929a38c93f",
   "execution_count": 23
  },
  {
   "cell_type": "markdown",
   "source": [
    "Step 1: Analyze P(T) = 0.300079\n",
    "- Approximately 30.01% of the sampled bats can carry Ebola.\n",
    "- This suggests that Ebola carriage is relatively common in this bat population, affecting nearly one-third of the bats.\n",
    "\n",
    "Step 2: Analyze P(Gi) for each gene\n",
    "- Gene 1 (G1): P(G1) = 0.70228\n",
    "  - Expressed in about 70.23% of bats, making it a commonly expressed gene.\n",
    "- Gene 2 (G2): P(G2) = 0.30076\n",
    "  - Expressed in about 30.08% of bats, less common than G1.\n",
    "- Gene 3 (G3): P(G3) = 0.5009\n",
    "  - Expressed in about 50.09% of bats, showing an almost even split in the population.\n",
    "- Gene 4 (G4): P(G4) = 0.80162\n",
    "  - Most commonly expressed gene, present in about 80.16% of bats.\n",
    "- Gene 5 (G5): P(G5) = 0.32705\n",
    "  - Expressed in about 32.71% of bats, similar in frequency to G2.\n",
    "\n",
    "Step 3: Evaluate independence of genes and trait\n",
    "- Gene 1 and Gene 2 are reported as independent of T.\n",
    "  - This suggests that the expression of G1 and G2 does not significantly influence the bat's ability to carry Ebola.\n",
    "- Genes 3, 4, and 5 are not independent of T, indicating potential relationships with Ebola carriage.\n",
    "\n",
    "Step 4: Analyze P(T | Gi) for non-independent genes\n",
    "- Gene 3: P(T | G3) = 0.5831902575364344\n",
    "  - When G3 is expressed, the probability of Ebola carriage increases to about 58.32%, compared to the baseline 30.01%.\n",
    "  - G3 expression is associated with a higher likelihood of Ebola carriage.\n",
    "- Gene 4: P(T | G4) = 0.37053716224645095\n",
    "  - When G4 is expressed, the probability of Ebola carriage is about 37.05%.\n",
    "  - G4 expression is associated with a slight increase in Ebola carriage compared to the baseline, but less so than G3.\n",
    "- Gene 5: P(T | G5) = 0.8999847118177648\n",
    "  - When G5 is expressed, the probability of Ebola carriage dramatically increases to about 90%.\n",
    "  - G5 shows the strongest association with Ebola carriage among all genes.\n",
    "\n",
    "Step 5: Synthesize findings\n",
    "- G5 appears to be the most significant gene related to Ebola carriage. Its expression is strongly associated with the bat's ability to carry Ebola.\n",
    "- G3 also shows a positive association with Ebola carriage, but to a lesser extent than G5.\n",
    "- G4, despite being the most commonly expressed gene, has a relatively minor positive association with Ebola carriage.\n",
    "- G1 and G2, being independent, likely play little to no role in determining Ebola carriage.\n",
    "\n",
    "Step 6: Propose potential mechanisms\n",
    "- G5 might be involved in cellular receptors or pathways that facilitate Ebola virus entry or replication.\n",
    "- G3 could be part of a secondary mechanism that supports Ebola carriage, perhaps related to the bat's immune response.\n",
    "- G4, being widely expressed but with less impact on carriage, might play a subtle role in creating a favorable environment for the virus.\n",
    "\n",
    "Step 7: Consider limitations\n",
    "- These results are based on a sample of 100,000 bats, providing strong statistical power but still subject to sampling variability.\n",
    "- The study only shows correlations; causation cannot be inferred without further experimental evidence.\n",
    "- Other environmental or genetic factors not captured in this data might also influence Ebola carriage."
   ],
   "metadata": {
    "collapsed": false
   },
   "id": "3e9994ad3573112e"
  },
  {
   "cell_type": "code",
   "outputs": [
    {
     "data": {
      "text/plain": "2.63261"
     },
     "execution_count": 26,
     "metadata": {},
     "output_type": "execute_result"
    }
   ],
   "source": [
    "# 11f) Expected value for K: K being the number of genes expressed. \n",
    "# Hint: K has 6 values: 0, 1, 2, 3, 4, 5\n",
    "# E(K) = Σ k * P(K = k)\n",
    "\n",
    "expected_value = 0\n",
    "num_expressed_genes = df.sum(axis=1)\n",
    "for k in range(6):\n",
    "    expected_value += k * df[num_expressed_genes == k].shape[0] / total_num\n",
    "expected_value"
   ],
   "metadata": {
    "collapsed": false,
    "ExecuteTime": {
     "end_time": "2024-08-11T09:53:57.686393Z",
     "start_time": "2024-08-11T09:53:57.656004Z"
    }
   },
   "id": "ac688f7255cfc27",
   "execution_count": 26
  },
  {
   "cell_type": "code",
   "outputs": [],
   "source": [
    "# DONE AND DUSTED"
   ],
   "metadata": {
    "collapsed": false
   },
   "id": "7075673d8fc16e75"
  }
 ],
 "metadata": {
  "kernelspec": {
   "display_name": "Python 3",
   "language": "python",
   "name": "python3"
  },
  "language_info": {
   "codemirror_mode": {
    "name": "ipython",
    "version": 2
   },
   "file_extension": ".py",
   "mimetype": "text/x-python",
   "name": "python",
   "nbconvert_exporter": "python",
   "pygments_lexer": "ipython2",
   "version": "2.7.6"
  }
 },
 "nbformat": 4,
 "nbformat_minor": 5
}
